{
 "cells": [
  {
   "cell_type": "markdown",
   "source": [
    "Script to download structures with existing LOBSTER calculation and perform robocrys analysis on them\n",
    "with standard settings, store both text output and dict output.\n",
    "Requires *robocrys* environment."
   ],
   "metadata": {
    "collapsed": false
   },
   "id": "195f1f9fde94a285"
  },
  {
   "cell_type": "code",
   "outputs": [],
   "source": [
    "import logging\n",
    "from mp_api.client import MPRester\n",
    "import pandas as pd\n",
    "from pymatgen.core import Structure\n",
    "from robocrys import StructureCondenser, StructureDescriber"
   ],
   "metadata": {
    "collapsed": false
   },
   "id": "9d570eb6ea87fe5",
   "execution_count": null
  },
  {
   "cell_type": "code",
   "outputs": [],
   "source": [
    "logging.basicConfig(filename=\"robocrys_analysis.log\",\n",
    "                    filemode=\"w\",\n",
    "                    format=\"%(asctime)s - %(levelname)s - %(message)s\",\n",
    "                    level=logging.INFO)\n",
    "\n",
    "logging.info(\"Started download and robocrys analysis script.\")\n",
    "\n",
    "material_ids = pd.read_csv(\"material_ids.csv\")[\"mpids\"].values.tolist()\n",
    "all_entries = {mp_id: {} for mp_id in material_ids}\n",
    "\n",
    "with MPRester(\"add-your-mp-api-key\") as mpr:\n",
    "    docs_summary = mpr.materials.search(material_ids=material_ids,\n",
    "                                        fields=[\"material_id\", \"structure\"],\n",
    "                                        all_fields=False)\n",
    "\n",
    "for doc in docs_summary:\n",
    "    all_entries[str(doc.material_id)][\"structure\"] = doc.structure.as_dict()"
   ],
   "metadata": {
    "collapsed": false
   },
   "id": "826e1b7875c50336",
   "execution_count": null
  },
  {
   "cell_type": "code",
   "outputs": [],
   "source": [
    "# Do not perform any transformations, otherwise standard robocrys settings\n",
    "# Also generate two descriptions similar to Lobsterpy Analysis which_bonds argument\n",
    "condenser = StructureCondenser(use_conventional_cell=False)\n",
    "describer_ca = StructureDescriber(only_describe_cation_polyhedra_connectivity=True)\n",
    "describer_all = StructureDescriber(only_describe_cation_polyhedra_connectivity=False)"
   ],
   "metadata": {
    "collapsed": false
   },
   "id": "9c08f2c5ee3bfb55",
   "execution_count": null
  },
  {
   "cell_type": "code",
   "outputs": [],
   "source": [
    "for idx, (mp_id, entry_dict) in enumerate(all_entries.items()):\n",
    "    try:\n",
    "        structure = Structure.from_dict(entry_dict[\"structure\"])\n",
    "    except KeyError:\n",
    "        logging.info(f\"No structure entry for {mp_id}, {entry_dict}.\")\n",
    "        all_entries[mp_id][\"structure\"] = None\n",
    "        all_entries[mp_id][\"robocrys_condensed_structure\"] = None\n",
    "        all_entries[mp_id][\"robocrys_description_ca\"] = None\n",
    "        all_entries[mp_id][\"robocrys_description_all\"] = None\n",
    "        continue\n",
    "\n",
    "    try:\n",
    "        condensed_structure = condenser.condense_structure(structure)\n",
    "        all_entries[mp_id][\"robocrys_condensed_structure\"] = condensed_structure\n",
    "\n",
    "        all_entries[mp_id][\"robocrys_description_ca\"] = describer_ca.describe(condensed_structure)\n",
    "        all_entries[mp_id][\"robocrys_description_all\"] = describer_all.describe(condensed_structure)\n",
    "    except Exception as e:\n",
    "        logging.info(f\"Robocrys error for entry {mp_id} ({str(e)}).\")\n",
    "        all_entries[mp_id][\"robocrys_condensed_structure\"] = None\n",
    "        all_entries[mp_id][\"robocrys_description_ca\"] = None\n",
    "        all_entries[mp_id][\"robocrys_description_all\"] = None\n",
    "        continue\n",
    "    \n",
    "    if idx % 200 == 0 and idx > 0:\n",
    "        df = pd.DataFrame.from_dict(all_entries, orient=\"index\")\n",
    "        df.to_json(f\"df_robocrys_info_{idx}.json\")"
   ],
   "metadata": {
    "collapsed": false
   },
   "id": "cb0015f65dd7f056",
   "execution_count": null
  },
  {
   "cell_type": "code",
   "outputs": [],
   "source": [
    "df = pd.DataFrame.from_dict(all_entries, orient=\"index\")\n",
    "df.to_json(\"Robocrys/df_robocrys_info.json\")"
   ],
   "metadata": {
    "collapsed": false
   },
   "id": "52cde2bd822d02e5",
   "execution_count": null
  }
 ],
 "metadata": {
  "kernelspec": {
   "display_name": "Python 3",
   "language": "python",
   "name": "python3"
  },
  "language_info": {
   "codemirror_mode": {
    "name": "ipython",
    "version": 2
   },
   "file_extension": ".py",
   "mimetype": "text/x-python",
   "name": "python",
   "nbconvert_exporter": "python",
   "pygments_lexer": "ipython2",
   "version": "2.7.6"
  }
 },
 "nbformat": 4,
 "nbformat_minor": 5
}
