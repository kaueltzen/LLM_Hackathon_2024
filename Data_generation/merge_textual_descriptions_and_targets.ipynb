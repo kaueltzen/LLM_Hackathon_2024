{
 "cells": [
  {
   "cell_type": "markdown",
   "source": [
    "Merge targets (last phdos peak), robocrys and lobsterpy descriptions (smallest basis) for matbench dataset."
   ],
   "metadata": {
    "collapsed": false
   },
   "id": "c57e0cef39ec67ee"
  },
  {
   "cell_type": "code",
   "outputs": [],
   "source": [
    "from collections import Counter\n",
    "import pandas as pd"
   ],
   "metadata": {
    "collapsed": false,
    "ExecuteTime": {
     "end_time": "2024-05-07T14:46:01.579061786Z",
     "start_time": "2024-05-07T14:46:01.201301272Z"
    }
   },
   "id": "bb9a00f7932d0d51",
   "execution_count": 1
  },
  {
   "cell_type": "code",
   "outputs": [],
   "source": [
    "targets = pd.read_csv(\"Targets/ph_peak.csv\")\n",
    "targets.set_index(\"mpid\", inplace=True, drop=True)"
   ],
   "metadata": {
    "collapsed": false,
    "ExecuteTime": {
     "end_time": "2024-05-07T14:46:02.498625706Z",
     "start_time": "2024-05-07T14:46:02.410200018Z"
    }
   },
   "id": "b2baecdd5af54f2d",
   "execution_count": 2
  },
  {
   "cell_type": "code",
   "outputs": [],
   "source": [
    "robocrys = pd.read_json(\"Robocrys/df_robocrys_info.json\")"
   ],
   "metadata": {
    "collapsed": false,
    "ExecuteTime": {
     "end_time": "2024-05-07T14:46:11.408322299Z",
     "start_time": "2024-05-07T14:46:03.368949460Z"
    }
   },
   "id": "cc73456b7ad98e58",
   "execution_count": 3
  },
  {
   "cell_type": "code",
   "outputs": [],
   "source": [
    "lobsterpy = pd.read_csv(\"LobsterPy/LobsterPy_cba_text_small.csv\")\n",
    "lobsterpy.set_index(\"Unnamed: 0\", inplace=True, drop=True)"
   ],
   "metadata": {
    "collapsed": false,
    "ExecuteTime": {
     "end_time": "2024-05-07T14:46:12.111349175Z",
     "start_time": "2024-05-07T14:46:11.411971539Z"
    }
   },
   "id": "cc62639bd9b1f2b5",
   "execution_count": 4
  },
  {
   "cell_type": "code",
   "outputs": [],
   "source": [
    "df1 = targets.merge(lobsterpy, left_index=True, right_index=True)\n",
    "overall = df1.merge(robocrys, left_index=True, right_index=True)"
   ],
   "metadata": {
    "collapsed": false,
    "ExecuteTime": {
     "end_time": "2024-05-07T14:46:12.117590585Z",
     "start_time": "2024-05-07T14:46:12.006555666Z"
    }
   },
   "id": "ac0ba205ee9da95",
   "execution_count": 5
  },
  {
   "cell_type": "code",
   "outputs": [],
   "source": [
    "# Drop unnecessary columns\n",
    "overall.drop(columns=['structure', 'robocrys_condensed_structure', 'cation_anion_bonds_cba', 'all_bonds_cba'], inplace=True)"
   ],
   "metadata": {
    "collapsed": false,
    "ExecuteTime": {
     "end_time": "2024-05-07T14:46:13.747307113Z",
     "start_time": "2024-05-07T14:46:13.661875172Z"
    }
   },
   "id": "1f4eea6a87c23ac2",
   "execution_count": 6
  },
  {
   "cell_type": "code",
   "outputs": [
    {
     "name": "stdout",
     "output_type": "stream",
     "text": [
      "last phdos peak Counter({<class 'numpy.float64'>: 1264})\n",
      "cation_anion_bonds_text Counter({<class 'str'>: 1259, <class 'float'>: 5})\n",
      "all_bonds_text Counter({<class 'str'>: 1264})\n",
      "robocrys_description_ca Counter({<class 'str'>: 1257, <class 'NoneType'>: 7})\n",
      "robocrys_description_all Counter({<class 'str'>: 1257, <class 'NoneType'>: 7})\n"
     ]
    }
   ],
   "source": [
    "for col in overall.columns:\n",
    "    print(col, Counter([type(v) for v in overall[col].values]))\n",
    "# -> go for all_bonds version"
   ],
   "metadata": {
    "collapsed": false,
    "ExecuteTime": {
     "end_time": "2024-05-07T14:46:14.971665989Z",
     "start_time": "2024-05-07T14:46:14.968211648Z"
    }
   },
   "id": "1c2c2762bc4a2dfa",
   "execution_count": 7
  },
  {
   "cell_type": "markdown",
   "source": [
    "#### All bonds, both descriptions"
   ],
   "metadata": {
    "collapsed": false
   },
   "id": "a5042cff903300ca"
  },
  {
   "cell_type": "code",
   "outputs": [
    {
     "name": "stdout",
     "output_type": "stream",
     "text": [
      "No robocrys description for mp-1634\n",
      "No robocrys description for mp-19795\n",
      "No robocrys description for mp-23116\n",
      "No robocrys description for mp-27716\n",
      "No robocrys description for mp-602\n",
      "No robocrys description for mp-7581\n",
      "No robocrys description for mp-7988\n"
     ]
    }
   ],
   "source": [
    "# All bonds, both descriptions\n",
    "all_bonds = overall.copy()\n",
    "all_bonds[\"instruction\"] = \"What is the frequency of the highest frequency optical phonon mode peak in units of 1/cm given the following description?\"\n",
    "\n",
    "for mp_id, row in all_bonds.iterrows():\n",
    "    if isinstance(row[\"robocrys_description_all\"], str):\n",
    "        all_bonds.at[mp_id, \"input\"] = row[\"all_bonds_text\"] + \" \" + row[\"robocrys_description_all\"]\n",
    "    else:\n",
    "        all_bonds.at[mp_id, \"input\"] = row[\"all_bonds_text\"]\n",
    "        print(f\"No robocrys description for {mp_id}\")\n",
    "        \n",
    "    all_bonds.at[mp_id, \"output\"] = f\"The frequency of the highest frequency optical phonon mode peak is \" + str(round(row[\"last phdos peak\"], 4)) + \" 1/cm.\"\n",
    "    \n",
    "all_bonds.drop(columns=[\"cation_anion_bonds_text\", \"robocrys_description_ca\"], inplace=True)"
   ],
   "metadata": {
    "collapsed": false,
    "ExecuteTime": {
     "end_time": "2024-05-07T14:46:20.647329782Z",
     "start_time": "2024-05-07T14:46:20.469085795Z"
    }
   },
   "id": "1dec4e0e5020a3f3",
   "execution_count": 8
  },
  {
   "cell_type": "code",
   "outputs": [],
   "source": [
    "all_bonds.drop(columns=['last phdos peak', 'all_bonds_text', 'robocrys_description_all'], inplace=True)\n",
    "all_bonds.to_json(\"Data_unsloth/unsloth_input_last-phdos_all-bonds_robocrys_and_lobsterpy.json\")"
   ],
   "metadata": {
    "collapsed": false,
    "ExecuteTime": {
     "end_time": "2024-05-07T14:46:31.726512281Z",
     "start_time": "2024-05-07T14:46:31.648086282Z"
    }
   },
   "id": "7cfe73135797d63a",
   "execution_count": 9
  },
  {
   "cell_type": "markdown",
   "source": [
    "#### Only LobsterPy text descriptions"
   ],
   "metadata": {
    "collapsed": false
   },
   "id": "9027f8bcb966ac84"
  },
  {
   "cell_type": "code",
   "outputs": [],
   "source": [
    "# Only LobsterPy text descriptions\n",
    "all_bonds = overall.copy()\n",
    "all_bonds[\"instruction\"] = \"What is the frequency of the highest frequency optical phonon mode peak in units of 1/cm given the following description?\"\n",
    "\n",
    "for mp_id, row in all_bonds.iterrows():\n",
    "\n",
    "    all_bonds.at[mp_id, \"input\"] = row[\"all_bonds_text\"]\n",
    "        \n",
    "    all_bonds.at[mp_id, \"output\"] = f\"The frequency of the highest frequency optical phonon mode peak is \" + str(round(row[\"last phdos peak\"], 4)) + \" 1/cm.\"\n",
    "    \n",
    "all_bonds.drop(columns=[\"cation_anion_bonds_text\", \"robocrys_description_ca\"], inplace=True)"
   ],
   "metadata": {
    "collapsed": false,
    "ExecuteTime": {
     "end_time": "2024-05-07T14:46:39.535707896Z",
     "start_time": "2024-05-07T14:46:39.290648874Z"
    }
   },
   "id": "4501fa9f178f9e4a",
   "execution_count": 10
  },
  {
   "cell_type": "code",
   "outputs": [],
   "source": [
    "all_bonds.drop(columns=['last phdos peak', 'all_bonds_text', 'robocrys_description_all'], inplace=True)\n",
    "all_bonds.to_json(\"Data_unsloth/unsloth_input_last-phdos_all-bonds_only_lobsterpy.json\")"
   ],
   "metadata": {
    "collapsed": false,
    "ExecuteTime": {
     "end_time": "2024-05-07T14:46:42.407894523Z",
     "start_time": "2024-05-07T14:46:42.327690571Z"
    }
   },
   "id": "65231d7339f544bc",
   "execution_count": 11
  },
  {
   "cell_type": "markdown",
   "source": [
    "#### Only Robocrys text descriptions"
   ],
   "metadata": {
    "collapsed": false
   },
   "id": "8df9ab33af388d88"
  },
  {
   "cell_type": "code",
   "outputs": [],
   "source": [
    "# Only Robocrys text descriptions\n",
    "all_bonds = overall.copy()\n",
    "all_bonds[\"instruction\"] = \"What is the frequency of the highest frequency optical phonon mode peak in units of 1/cm given the following description?\"\n",
    "\n",
    "for mp_id, row in all_bonds.iterrows():\n",
    "\n",
    "    if isinstance(row[\"robocrys_description_all\"], str):\n",
    "        all_bonds.at[mp_id, \"input\"] = row[\"robocrys_description_all\"]\n",
    "        \n",
    "    all_bonds.at[mp_id, \"output\"] = f\"The frequency of the highest frequency optical phonon mode peak is \" + str(round(row[\"last phdos peak\"], 4)) + \" 1/cm.\"\n",
    "\n",
    "missing_ids = [mp_id for mp_id, robotext in zip(all_bonds.index.values, all_bonds.robocrys_description_all.values) if robotext is None]\n",
    "all_bonds.drop(missing_ids, inplace=True)\n",
    "all_bonds.drop(columns=[\"cation_anion_bonds_text\", \"robocrys_description_ca\"], inplace=True)"
   ],
   "metadata": {
    "collapsed": false,
    "ExecuteTime": {
     "end_time": "2024-05-07T14:46:45.856538050Z",
     "start_time": "2024-05-07T14:46:45.704483801Z"
    }
   },
   "id": "a5b56f0363ff0ed2",
   "execution_count": 12
  },
  {
   "cell_type": "code",
   "outputs": [
    {
     "data": {
      "text/plain": "1257"
     },
     "execution_count": 13,
     "metadata": {},
     "output_type": "execute_result"
    }
   ],
   "source": [
    "len(all_bonds)"
   ],
   "metadata": {
    "collapsed": false,
    "ExecuteTime": {
     "end_time": "2024-05-07T14:46:46.751417834Z",
     "start_time": "2024-05-07T14:46:46.739398076Z"
    }
   },
   "id": "d3dae22dc8778a71",
   "execution_count": 13
  },
  {
   "cell_type": "code",
   "outputs": [],
   "source": [
    "all_bonds.drop(columns=['last phdos peak', 'all_bonds_text', 'robocrys_description_all'], inplace=True)\n",
    "all_bonds.to_json(\"Data_unsloth/unsloth_input_last-phdos_all-bonds_only_robocrys.json\")"
   ],
   "metadata": {
    "collapsed": false,
    "ExecuteTime": {
     "end_time": "2024-05-07T14:46:50.215332543Z",
     "start_time": "2024-05-07T14:46:50.192878388Z"
    }
   },
   "id": "9ad8e039337964dd",
   "execution_count": 14
  }
 ],
 "metadata": {
  "kernelspec": {
   "display_name": "Python 3",
   "language": "python",
   "name": "python3"
  },
  "language_info": {
   "codemirror_mode": {
    "name": "ipython",
    "version": 2
   },
   "file_extension": ".py",
   "mimetype": "text/x-python",
   "name": "python",
   "nbconvert_exporter": "python",
   "pygments_lexer": "ipython2",
   "version": "2.7.6"
  }
 },
 "nbformat": 4,
 "nbformat_minor": 5
}
