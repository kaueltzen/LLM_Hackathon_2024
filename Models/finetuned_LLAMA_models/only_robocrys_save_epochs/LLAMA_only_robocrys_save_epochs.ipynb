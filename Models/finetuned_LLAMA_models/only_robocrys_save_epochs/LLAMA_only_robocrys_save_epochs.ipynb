{
 "cells": [
  {
   "cell_type": "code",
   "execution_count": null,
   "id": "b3f1d2a8-f591-49c4-b3f2-6217336b7d6c",
   "metadata": {},
   "outputs": [],
   "source": [
    "import os\n",
    "os.environ[\"CUDA_VISIBLE_DEVICES\"] = \"1\"\n",
    "\n",
    "import pandas as pd\n",
    "import torch\n",
    "\n",
    "import sys\n",
    "sys.path.insert(1, \"..\")\n",
    "\n",
    "from utils_llama import *"
   ]
  },
  {
   "cell_type": "code",
   "execution_count": null,
   "id": "d97ea09e-6a33-48ba-8f0d-6a031d591b85",
   "metadata": {},
   "outputs": [],
   "source": [
    "from unsloth import FastLanguageModel\n",
    "from datasets import load_dataset, Dataset, DatasetDict"
   ]
  },
  {
   "cell_type": "code",
   "execution_count": null,
   "id": "c16993fa-6241-4e2d-8281-20928b7c7800",
   "metadata": {},
   "outputs": [],
   "source": [
    "os.environ[\"CUDA_VISIBLE_DEVICES\"] = \"1\""
   ]
  },
  {
   "cell_type": "code",
   "execution_count": null,
   "id": "bc325aac-6fdf-44af-a225-8309c90a8b2e",
   "metadata": {},
   "outputs": [],
   "source": [
    "max_seq_length = 800 # Choose any! We auto support RoPE Scaling internally!\n",
    "dtype = None # None for auto detection. Float16 for Tesla T4, V100, Bfloat16 for Ampere+\n",
    "load_in_4bit = True # Use 4bit quantization to reduce memory usage. Can be False.\n",
    "\n",
    "# 4bit pre quantized models we support for 4x faster downloading + no OOMs.\n",
    "fourbit_models = [\n",
    "    \"unsloth/mistral-7b-bnb-4bit\",\n",
    "    \"unsloth/mistral-7b-instruct-v0.2-bnb-4bit\",\n",
    "    \"unsloth/llama-2-7b-bnb-4bit\",\n",
    "    \"unsloth/gemma-7b-bnb-4bit\",\n",
    "    \"unsloth/gemma-7b-it-bnb-4bit\", # Instruct version of Gemma 7b\n",
    "    \"unsloth/gemma-2b-bnb-4bit\",\n",
    "    \"unsloth/gemma-2b-it-bnb-4bit\", # Instruct version of Gemma 2b\n",
    "    \"unsloth/llama-3-8b-bnb-4bit\", # [NEW] 15 Trillion token Llama-3\n",
    "] # More models at https://huggingface.co/unsloth\n",
    "\n",
    "model, tokenizer = FastLanguageModel.from_pretrained(\n",
    "    model_name = \"unsloth/llama-3-8b-bnb-4bit\",\n",
    "    max_seq_length = max_seq_length,\n",
    "    dtype = dtype,\n",
    "    load_in_4bit = load_in_4bit,\n",
    "    # token = \"hf_...\", # use one if using gated models like meta-llama/Llama-2-7b-hf\n",
    ")"
   ]
  },
  {
   "cell_type": "code",
   "execution_count": null,
   "id": "7a9c02e3-19c9-4e28-a01f-9fd83930a123",
   "metadata": {},
   "outputs": [],
   "source": [
    "model = FastLanguageModel.get_peft_model(\n",
    "    model,\n",
    "    r = 16, # Choose any number > 0 ! Suggested 8, 16, 32, 64, 128\n",
    "    target_modules = [\"q_proj\", \"k_proj\", \"v_proj\", \"o_proj\",\n",
    "                      \"gate_proj\", \"up_proj\", \"down_proj\",],\n",
    "    lora_alpha = 16,\n",
    "    lora_dropout = 0, # Supports any, but = 0 is optimized\n",
    "    bias = \"none\",    # Supports any, but = \"none\" is optimized\n",
    "    # [NEW] \"unsloth\" uses 30% less VRAM, fits 2x larger batch sizes!\n",
    "    use_gradient_checkpointing = \"unsloth\", # True or \"unsloth\" for very long context\n",
    "    random_state = 3407,\n",
    "    use_rslora = False,  # We support rank stabilized LoRA\n",
    "    loftq_config = None, # And LoftQ\n",
    ")"
   ]
  },
  {
   "cell_type": "code",
   "execution_count": null,
   "id": "513c13df-b72c-466e-bbc7-94b413ece6b5",
   "metadata": {},
   "outputs": [],
   "source": [
    "df = pd.read_json('unsloth_input_last-phdos_all-bonds_only_robocrys.json')"
   ]
  },
  {
   "cell_type": "code",
   "execution_count": null,
   "id": "6c26f520-583f-4231-acd5-ed9403e44e8c",
   "metadata": {},
   "outputs": [],
   "source": [
    "dataset_loaded = Dataset.from_pandas(df, preserve_index=False)"
   ]
  },
  {
   "cell_type": "code",
   "execution_count": null,
   "id": "de3a69c1-cda7-43d1-b4da-690183b06ae8",
   "metadata": {},
   "outputs": [],
   "source": [
    "train_test = dataset_loaded.train_test_split(test_size=.20, shuffle=True, seed=42)\n",
    "train_valid = train_test[\"train\"].train_test_split(test_size=0.20, shuffle=True, seed=42)\n",
    "\n",
    "dataset = DatasetDict({\"train\": train_valid[\"train\"],\n",
    "                       \"valid\": train_valid[\"test\"],\n",
    "                      \"test\": train_test[\"test\"]})"
   ]
  },
  {
   "cell_type": "code",
   "execution_count": null,
   "id": "34e1df0c-2b45-412d-b1a5-4d428a3dba4a",
   "metadata": {},
   "outputs": [],
   "source": [
    "dataset"
   ]
  },
  {
   "cell_type": "code",
   "execution_count": null,
   "id": "b49c9cfb-5cef-42a6-b909-87b826eea49a",
   "metadata": {},
   "outputs": [],
   "source": [
    "alpaca_prompt = \"\"\"Below is an instruction that describes a task, paired with an input that provides further context. Write a response that appropriately completes the request.\n",
    "\n",
    "### Instruction:\n",
    "{}\n",
    "\n",
    "### Input:\n",
    "{}\n",
    "\n",
    "### Response:\n",
    "{}\"\"\"\n",
    "\n",
    "EOS_TOKEN = tokenizer.eos_token # Must add EOS_TOKEN\n",
    "def formatting_prompts_func(examples):\n",
    "    instructions = examples[\"instruction\"]\n",
    "    inputs       = examples[\"input\"]\n",
    "    outputs      = examples[\"output\"]\n",
    "    texts = []\n",
    "    for instruction, input, output in zip(instructions, inputs, outputs):\n",
    "        # Must add EOS_TOKEN, otherwise your generation will go on forever!\n",
    "        text = alpaca_prompt.format(instruction, input, output) + EOS_TOKEN\n",
    "        texts.append(text)\n",
    "    return { \"text\" : texts, }\n",
    "pass"
   ]
  },
  {
   "cell_type": "code",
   "execution_count": null,
   "id": "5146e6e5-0afe-46f0-a52f-9af37604b742",
   "metadata": {},
   "outputs": [],
   "source": [
    "dataset_train = dataset['train'].map(formatting_prompts_func, batched = True)\n",
    "dataset_valid = dataset['valid'].map(formatting_prompts_func, batched = True)"
   ]
  },
  {
   "cell_type": "code",
   "execution_count": null,
   "id": "281e9c05-fa18-43f3-9abe-c9f3eb8abf74",
   "metadata": {},
   "outputs": [],
   "source": [
    "from trl import SFTTrainer\n",
    "from transformers import TrainingArguments"
   ]
  },
  {
   "cell_type": "code",
   "execution_count": null,
   "id": "15a0f2d1-cd45-47d7-81fe-6cf2e0391967",
   "metadata": {},
   "outputs": [],
   "source": [
    "trainer = SFTTrainer(\n",
    "    model = model,\n",
    "    tokenizer = tokenizer,\n",
    "    train_dataset = dataset_train,\n",
    "    eval_dataset = dataset_valid,\n",
    "    dataset_text_field = \"text\",\n",
    "    max_seq_length = max_seq_length,\n",
    "    dataset_num_proc = 2,\n",
    "    packing = False, # Can make training 5x faster for short sequences.\n",
    "    args = TrainingArguments(\n",
    "        evaluation_strategy=\"epoch\",\n",
    "        per_device_train_batch_size = 2,\n",
    "        gradient_accumulation_steps = 4,\n",
    "        warmup_steps = 5,\n",
    "        num_train_epochs = 10,\n",
    "        learning_rate = 2e-4,\n",
    "        fp16 = not torch.cuda.is_bf16_supported(),\n",
    "        bf16 = torch.cuda.is_bf16_supported(),\n",
    "        logging_steps = 1,\n",
    "        optim = \"adamw_8bit\",\n",
    "        weight_decay = 0.01,\n",
    "        lr_scheduler_type = \"linear\",\n",
    "        seed = 3407,\n",
    "        output_dir = \"outputs\",\n",
    "        save_strategy=\"epoch\",\n",
    "        load_best_model_at_end=True,\n",
    "    ),\n",
    ")"
   ]
  },
  {
   "cell_type": "code",
   "execution_count": null,
   "id": "87bf3f6a-1433-49bd-ae0e-287732280bb6",
   "metadata": {
    "scrolled": true
   },
   "outputs": [],
   "source": [
    "trainer_stats = trainer.train()"
   ]
  },
  {
   "cell_type": "code",
   "execution_count": null,
   "id": "212e14b3-e1a3-4471-a286-03099f6f3aae",
   "metadata": {
    "scrolled": true
   },
   "outputs": [],
   "source": [
    "# Reload models from checkpoints and find one with lowest MAE of validation set\n",
    "import os\n",
    "checkpoint_dir = os.listdir(\"outputs\")\n",
    "maes_valid = {}\n",
    "for model_dir in checkpoint_dir:\n",
    "    model, tokenizer = FastLanguageModel.from_pretrained(os.path.join(\"outputs\", model_dir))\n",
    "\n",
    "    y_true, y_pred = get_prediction_all_info(dataset=dataset[\"valid\"], model=model, tokenizer=tokenizer)\n",
    "    y_true = np.array(y_true)\n",
    "    y_pred = np.array(y_pred)\n",
    "    maes_valid[model_dir] = compute_mae(y_true, y_pred)\n",
    "\n",
    "print(maes_valid)\n",
    "print({k:v for k, v in maes_valid.items() if v==min(list(maes_valid.values()))})"
   ]
  },
  {
   "cell_type": "code",
   "execution_count": null,
   "id": "9724c37c-b0b2-42ef-976d-855ba50d04b6",
   "metadata": {},
   "outputs": [],
   "source": [
    "model_dir = min(maes_valid, key=maes_valid.get)\n",
    "print(model_dir)\n",
    "\n",
    "model, tokenizer = FastLanguageModel.from_pretrained(os.path.join(\"outputs\", model_dir))\n",
    "sts = [\"test\", \"valid\", \"train\"]\n",
    "error_dict = {st: {} for st in sts}\n",
    "for st in sts:\n",
    "    y_true, y_pred = get_prediction_all_info(dataset=dataset[st], model=model, tokenizer=tokenizer)\n",
    "    error_dict[st][\"y_true\"] = y_true\n",
    "    error_dict[st][\"y_pred\"] = y_pred\n",
    "\n",
    "    y_true = np.array(y_true)\n",
    "    y_pred = np.array(y_pred)\n",
    "    error_dict[st][\"mae\"] = compute_mae(y_true, y_pred)\n",
    "    error_dict[st][\"rmse\"] = compute_rmse(y_true, y_pred)\n",
    "\n",
    "import json\n",
    "with open(\"result_dict_best_model_lora_model_only_robocrys_save_epochs.json\", \"w\") as f:\n",
    "    json.dump(error_dict, f)"
   ]
  },
  {
   "cell_type": "code",
   "outputs": [],
   "source": [
    "model.save_pretrained(\"lora_model_only_robocrys_save_epochs\") # Local saving\n",
    "tokenizer.save_pretrained(\"lora_model_only_robocrys_save_epochs\")"
   ],
   "metadata": {},
   "id": "b0725523-b3e6-418a-8b69-1602b6ad4e2d",
   "execution_count": 0
  },
  {
   "cell_type": "code",
   "outputs": [],
   "source": [
    "# Save in gguf for GUI -> further see \"Chatbot\" folder\n",
    "model.save_pretrained_gguf(\"model_only_robocrys_save_epochs_gguf\", tokenizer,)"
   ],
   "metadata": {},
   "id": "12199ad1-c00e-45cd-b812-5a971d12799c",
   "execution_count": 0
  }
 ],
 "metadata": {
  "kernelspec": {
   "display_name": "Python 3 (ipykernel)",
   "language": "python",
   "name": "python3"
  },
  "language_info": {
   "codemirror_mode": {
    "name": "ipython",
    "version": 3
   },
   "file_extension": ".py",
   "mimetype": "text/x-python",
   "name": "python",
   "nbconvert_exporter": "python",
   "pygments_lexer": "ipython3",
   "version": "3.10.14"
  }
 },
 "nbformat": 4,
 "nbformat_minor": 5
}
