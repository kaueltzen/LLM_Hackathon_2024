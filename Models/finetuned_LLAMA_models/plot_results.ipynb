{
 "cells": [
  {
   "cell_type": "code",
   "execution_count": 1,
   "id": "154cf06d-13c0-43e8-83be-0659462f41da",
   "metadata": {},
   "outputs": [],
   "source": [
    "import plotly.graph_objects as go\n",
    "import pandas as pd\n",
    "import numpy as np\n",
    "from sklearn.linear_model import LinearRegression"
   ]
  },
  {
   "cell_type": "code",
   "execution_count": 2,
   "id": "ef8db752-741f-4937-ab94-b2846cd69c87",
   "metadata": {},
   "outputs": [],
   "source": [
    "only_robo_res_file = \"result_dict_best_model_lora_model_only_robocrys_save_epochs.json\"\n",
    "lobsterpy_robo_res_file = \"result_dict_best_model_lora_model_robocrys_and_lobsterpy_save_epochs.json\""
   ]
  },
  {
   "cell_type": "code",
   "execution_count": 3,
   "id": "178b4a60-85b8-4db2-a911-f088701255a9",
   "metadata": {},
   "outputs": [],
   "source": [
    "only_robo_res = pd.read_json(f\"only_robocrys_save_epochs/{only_robo_res_file}\")\n",
    "lobsterpy_robo_res = pd.read_json(f\"lobsterpy_and_robocrys_save_epochs/{lobsterpy_robo_res_file}\")"
   ]
  },
  {
   "cell_type": "code",
   "execution_count": 4,
   "id": "74936814-fc71-4bd6-bdc0-926c0d350b07",
   "metadata": {},
   "outputs": [],
   "source": [
    "def get_actual_predict_plot(df_predictions, modelname):\n",
    "    \"\"\"\n",
    "    Function to save the actual and predicted values by the model for complete dataset\n",
    "    \"\"\"\n",
    "\n",
    "    fig = go.Figure()\n",
    "\n",
    "    fig.add_trace(\n",
    "        go.Scatter(\n",
    "            x=df_predictions.loc[\"y_true\",\"test\"],\n",
    "            y=df_predictions.loc[\"y_pred\",\"test\"],\n",
    "            mode=\"markers\",\n",
    "            showlegend=False,\n",
    "        )\n",
    "    )\n",
    "\n",
    "    fig.update_traces(marker=dict(size=10, color=\"#1878b6\"))\n",
    "\n",
    "\n",
    "    fig.update_layout(\n",
    "        xaxis_title=\"$\\\\text{Actual }\\\\omega\\\\text{ }(cm^{⁻1})$\",\n",
    "        yaxis_title=\"$\\\\text{Predicted }\\\\omega\\\\text{ } (cm^{⁻1})$\",\n",
    "    )\n",
    "    fig.update_yaxes(title_font=dict(size=22), color=\"black\")\n",
    "    fig.update_xaxes(title_font=dict(size=22), color=\"black\")\n",
    "    fig.update_xaxes(showline=True, linewidth=1, linecolor=\"black\", mirror=True)\n",
    "    fig.update_yaxes(showline=True, linewidth=1, linecolor=\"black\", mirror=True)\n",
    "    fig.update_xaxes(ticks=\"inside\", tickwidth=1, tickcolor=\"black\", ticklen=5)\n",
    "    fig.update_yaxes(ticks=\"inside\", tickwidth=1, tickcolor=\"black\", ticklen=5)\n",
    "    fig.update_layout(width=1000, height=1000)\n",
    "    fig.update_layout(\n",
    "        legend=dict(\n",
    "            x=0,\n",
    "            y=1,\n",
    "            traceorder=\"normal\",\n",
    "            font=dict(family=\"sans-serif\", size=20, color=\"black\"),\n",
    "        )\n",
    "    )\n",
    "\n",
    "    # Update x-axis and y-axis tick font size\n",
    "    fig.update_layout(\n",
    "        xaxis=dict(\n",
    "            tickfont=dict(size=20),  # Set the font size here\n",
    "        )\n",
    "    )\n",
    "    fig.update_layout(\n",
    "        yaxis=dict(\n",
    "            tickfont=dict(size=20),  # Set the font size here\n",
    "        )\n",
    "    )\n",
    "\n",
    "    fig.update_layout(\n",
    "        legend=dict(\n",
    "            x=0,\n",
    "            y=1,\n",
    "            traceorder=\"normal\",\n",
    "            font=dict(family=\"sans-serif\", size=20, color=\"black\"),\n",
    "        )\n",
    "    )\n",
    "    fig.add_annotation(\n",
    "        xref=\"x domain\",\n",
    "        yref=\"y domain\",\n",
    "        x=0.90,\n",
    "        y=0.5,\n",
    "        text=f\"MAE: {round(df_predictions.loc['mae', 'test'], 3)}\",\n",
    "        showarrow=False,\n",
    "        font=dict(size=24, color=\"black\"),\n",
    "    )\n",
    "\n",
    "    fig.update_layout(template=\"simple_white\")\n",
    "    fig.write_image(\n",
    "        \"{}/{}_predictions.pdf\".format(modelname, modelname), width=1000, height=1000\n",
    "    )\n",
    "    \n",
    "\n",
    "    return fig"
   ]
  },
  {
   "cell_type": "code",
   "execution_count": 5,
   "id": "a7845d3a-d9c7-4239-8e37-44a31cc41927",
   "metadata": {},
   "outputs": [],
   "source": [
    " # get actual and model predict scatter plot\n",
    "for df_pred, model_name in zip([only_robo_res, lobsterpy_robo_res],[\"only_robocrys_save_epochs\", \"lobsterpy_and_robocrys_save_epochs\"]):\n",
    "    get_actual_predict_plot(df_predictions=df_pred,modelname=model_name)"
   ]
  },
  {
   "cell_type": "code",
   "execution_count": null,
   "id": "1b4a5b25-2269-43bf-a722-00829d03dd8e",
   "metadata": {},
   "outputs": [],
   "source": []
  }
 ],
 "metadata": {
  "kernelspec": {
   "display_name": "Python 3 (ipykernel)",
   "language": "python",
   "name": "python3"
  },
  "language_info": {
   "codemirror_mode": {
    "name": "ipython",
    "version": 3
   },
   "file_extension": ".py",
   "mimetype": "text/x-python",
   "name": "python",
   "nbconvert_exporter": "python",
   "pygments_lexer": "ipython3",
   "version": "3.9.0"
  }
 },
 "nbformat": 4,
 "nbformat_minor": 5
}
